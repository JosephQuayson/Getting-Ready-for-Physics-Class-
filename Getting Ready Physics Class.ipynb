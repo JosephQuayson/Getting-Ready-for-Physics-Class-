{
 "cells": [
  {
   "cell_type": "code",
   "execution_count": null,
   "metadata": {},
   "outputs": [],
   "source": [
    "# Uncomment this when you reach the \"Use the Force\" section\n",
    "train_mass = 22680\n",
    "train_acceleration = 10\n",
    "train_distance = 100\n",
    "bomb_mass = 1\n",
    "\n",
    "\n",
    "# Write your code below: \n",
    "# Function that converts temperature from fahrenheit to celcius\n",
    "def f_to_c(f_temp):\n",
    "  c_temp=(f_temp -32 )* 5/9\n",
    "  return c_temp\n",
    "\n",
    "f_to_c(f_temp= 100)\n",
    "# Function that converts temperature from  celcius to fahrenheit \n",
    "def c_to_f(c_temp):\n",
    "  f_temp = c_temp*(9/5) +32\n",
    "  return f_temp\n",
    "\n",
    "c_to_f(c_temp=0)\n",
    "\n",
    "# Function that calculate acceleration\n",
    "def get_force(mass, acceleration):\n",
    "  return mass*acceleration\n",
    "\n",
    "#Testing the force function\n",
    "train_force= get_force(train_mass, train_acceleration)\n",
    "print(\"The GE train supplies \"+ str(train_force) +\" Newtons of force.\" )\n",
    "\n",
    "# Function that calculate Energy\n",
    "def get_energy(mass,c=3*10**8):\n",
    "  return mass*(c**2)\n",
    "#Testing the force function\n",
    "bomb_energy=get_energy(bomb_mass)\n",
    "\n",
    "print(\"A 1kg bomb supplies \" + str(bomb_energy) + \" Joules\")\n",
    "\n",
    "# Function that calculate work\n",
    "\n",
    "def get_work(mass,acceleration,distance):\n",
    "  return get_force(mass, acceleration)*distance\n",
    "\n",
    "#Testing the force function\n",
    "train_work= get_work(train_mass, train_acceleration, train_distance)\n",
    "\n",
    "print(\"The GE train does \"+ str(train_work) + \" Joules of work over \" + str(train_distance)+ \" meters\" )"
   ]
  }
 ],
 "metadata": {
  "kernelspec": {
   "display_name": "Python 3",
   "language": "python",
   "name": "python3"
  },
  "language_info": {
   "codemirror_mode": {
    "name": "ipython",
    "version": 3
   },
   "file_extension": ".py",
   "mimetype": "text/x-python",
   "name": "python",
   "nbconvert_exporter": "python",
   "pygments_lexer": "ipython3",
   "version": "3.7.6"
  }
 },
 "nbformat": 4,
 "nbformat_minor": 4
}
